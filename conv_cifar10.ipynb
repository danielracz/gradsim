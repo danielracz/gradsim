{
 "cells": [
  {
   "cell_type": "markdown",
   "metadata": {},
   "source": [
    "# Imports, global constants, functions"
   ]
  },
  {
   "cell_type": "code",
   "execution_count": null,
   "metadata": {},
   "outputs": [],
   "source": [
    "import torch\n",
    "import torchvision\n",
    "from models.model_conv import ConvNet\n",
    "import torchvision.transforms as transforms\n",
    "import math\n",
    "import copy\n",
    "import time\n",
    "import pickle\n",
    "from datetime import datetime\n",
    "import os\n",
    "from matplotlib import pyplot as plt\n",
    "import matplotlib as mpl\n",
    "import numpy as np\n",
    "from grad_utils import *"
   ]
  },
  {
   "cell_type": "code",
   "execution_count": null,
   "metadata": {},
   "outputs": [],
   "source": [
    "BATCH_SIZE = 128\n",
    "NUM_WORKERS = 32\n",
    "PIN_MEMORY = True\n",
    "NUM_EPOCHS = 100000\n",
    "GRAD_DIM = 247434\n",
    "PATH = \"./generated_data/\" + datetime.today().strftime(\"%Y%m%d%H%M%S\")\n",
    "os.mkdir(PATH)"
   ]
  },
  {
   "cell_type": "code",
   "execution_count": null,
   "metadata": {},
   "outputs": [],
   "source": [
    "transform = transforms.Compose(\n",
    "    [transforms.ToTensor(),\n",
    "     transforms.Normalize((0.5, 0.5, 0.5), (0.5, 0.5, 0.5))])"
   ]
  },
  {
   "cell_type": "code",
   "execution_count": null,
   "metadata": {},
   "outputs": [],
   "source": [
    "test_set = torchvision.datasets.CIFAR10(root = \"./data\",\n",
    "                                        train = False,\n",
    "                                        download = True,\n",
    "                                        transform = transform)\n",
    "\n",
    "test_loader = torch.utils.data.DataLoader(test_set,\n",
    "                                          batch_size = BATCH_SIZE,\n",
    "                                          shuffle = False,\n",
    "                                          pin_memory = PIN_MEMORY,\n",
    "                                          num_workers = NUM_WORKERS)"
   ]
  },
  {
   "cell_type": "code",
   "execution_count": null,
   "metadata": {},
   "outputs": [],
   "source": [
    "def load_model_conv(device_str, model_num):\n",
    "    model = ConvNet().eval().to(device_str)\n",
    "    for param in model.parameters():\n",
    "        param.requires_grad = True\n",
    "    state_dict = torch.load(\"./models/model_conv.pt\")\n",
    "    model.load_state_dict(state_dict)\n",
    "    return model"
   ]
  },
  {
   "cell_type": "markdown",
   "metadata": {},
   "source": [
    "# Gradients"
   ]
  },
  {
   "cell_type": "code",
   "execution_count": null,
   "metadata": {},
   "outputs": [],
   "source": [
    "model = load_model_conv(\"cuda:6\", 16)"
   ]
  },
  {
   "cell_type": "code",
   "execution_count": null,
   "metadata": {},
   "outputs": [],
   "source": [
    "sum(1 for p in model.parameters())"
   ]
  },
  {
   "cell_type": "code",
   "execution_count": null,
   "metadata": {
    "scrolled": false
   },
   "outputs": [],
   "source": [
    "random_data = get_data(2000, test_loader, 10000, PATH)\n",
    "random_batch = torch.vstack([v for k, v in random_data.items()])"
   ]
  },
  {
   "cell_type": "code",
   "execution_count": null,
   "metadata": {},
   "outputs": [],
   "source": [
    "paramlist = [param for param in model.parameters()]"
   ]
  },
  {
   "cell_type": "code",
   "execution_count": null,
   "metadata": {},
   "outputs": [],
   "source": [
    "y = model(random_batch.to(\"cuda:6\"))\n",
    "torch.save(model.h.cpu(), PATH + \"/h_values.pt\")\n",
    "paramlist = [param for param in model.parameters()]\n",
    "with open(PATH + \"/weights.pickle\", \"wb\") as f:\n",
    "    pickle.dump(paramlist, f)"
   ]
  },
  {
   "cell_type": "code",
   "execution_count": null,
   "metadata": {
    "scrolled": true
   },
   "outputs": [],
   "source": [
    "grads = get_grads_per_layer(y, model, PATH)"
   ]
  },
  {
   "cell_type": "code",
   "execution_count": null,
   "metadata": {},
   "outputs": [],
   "source": [
    "GRAD_DIM = sum(x.flatten().shape[0] for x in paramlist)\n",
    "GRAD_DIM"
   ]
  },
  {
   "cell_type": "code",
   "execution_count": null,
   "metadata": {
    "scrolled": true
   },
   "outputs": [],
   "source": [
    "flattened_grads = get_flattened_summed_grads(grads)"
   ]
  },
  {
   "cell_type": "code",
   "execution_count": null,
   "metadata": {},
   "outputs": [],
   "source": [
    "unnormed_grads = flattened_grads.clone()"
   ]
  },
  {
   "cell_type": "code",
   "execution_count": null,
   "metadata": {
    "scrolled": true
   },
   "outputs": [],
   "source": [
    "blocklist = [param_layer.flatten() for param_layer in paramlist]"
   ]
  },
  {
   "cell_type": "code",
   "execution_count": null,
   "metadata": {},
   "outputs": [],
   "source": [
    "flattened_params = torch.cat([p.flatten() for p in paramlist])"
   ]
  },
  {
   "cell_type": "code",
   "execution_count": null,
   "metadata": {},
   "outputs": [],
   "source": [
    "h_values = torch.load(PATH + \"/h_values.pt\")"
   ]
  },
  {
   "cell_type": "code",
   "execution_count": null,
   "metadata": {},
   "outputs": [],
   "source": [
    "#normed_h_values = torch.stack([row / torch.max(row) for row in h_values])\n",
    "normed_h_values = torch.stack([(row - torch.min(row)) / (torch.max(row) - torch.min(row)) for row in h_values])\n",
    "in_h_maxnorm, out_h_maxnorm = calculate_inner_products(normed_h_values,\n",
    "                                                       GRAD_DIM,\n",
    "                                                       weights = blocklist, metric = \"\",\n",
    "                                                       to_norm = False, device = \"cuda:7\")\n",
    "gap, _, _ = calculate_gap(in_h_maxnorm, out_h_maxnorm)"
   ]
  },
  {
   "cell_type": "code",
   "execution_count": null,
   "metadata": {},
   "outputs": [],
   "source": [
    "#normed_grads = torch.stack([row / torch.max(row) for row in unnormed_grads])\n",
    "#normed_grads = unnormed_grads / torch.max(unnormed_grads)\n",
    "normed_grads = torch.stack([(row - torch.min(row)) / (torch.max(row) - torch.min(row)) for row in unnormed_grads])\n",
    "in_full_maxnorm, out_full_maxnorm = calculate_inner_products(normed_grads, \n",
    "                                                             GRAD_DIM,\n",
    "                                                             weights = blocklist, metric = \"block\",\n",
    "                                                             to_norm = False, device = \"cuda:7\")\n",
    "gap2, v1, v2 = calculate_gap(in_full_maxnorm, out_full_maxnorm)"
   ]
  },
  {
   "cell_type": "code",
   "execution_count": null,
   "metadata": {},
   "outputs": [],
   "source": [
    "sparsified_block_v3= sparsify_v3(unnormed_grads, \"cuda:1\", to_norm_output = False,\n",
    "                                  threshold = 1.15)\n",
    "#normed_sparsed = torch.stack([row / torch.max(row) for row in sparsified_block_v3])\n",
    "normed_sparsed = torch.stack([(row - torch.min(row)) / (torch.max(row) - torch.min(row)) for row in sparsified_block_v3])\n",
    "asdin, asdout = calculate_inner_products(normed_sparsed,\n",
    "                                         GRAD_DIM,\n",
    "                                         weights = blocklist, metric = \"block\",\n",
    "                                         to_norm = False, device = \"cuda:1\")\n",
    "gap4, v3, v4 = calculate_gap(asdin, asdout)"
   ]
  },
  {
   "cell_type": "code",
   "execution_count": null,
   "metadata": {},
   "outputs": [],
   "source": [
    "inputgaps_v2 = get_gap_for_each_input_v2(in_full_maxnorm, out_full_maxnorm)\n",
    "sparsed_gaps_v2 = get_gap_for_each_input_v2(asdin, asdout)"
   ]
  },
  {
   "cell_type": "code",
   "execution_count": null,
   "metadata": {},
   "outputs": [],
   "source": [
    "inputgaps_v2 = inputgaps_v2.type(torch.int).numpy()\n",
    "sparsed_gaps_v2 = sparsed_gaps_v2.type(torch.int).numpy()"
   ]
  },
  {
   "cell_type": "code",
   "execution_count": null,
   "metadata": {
    "scrolled": false
   },
   "outputs": [],
   "source": [
    "fig, axs = plt.subplots(1, 1, figsize = (12, 6), dpi = 120, sharex = True, sharey = True)\n",
    "axs.hist(np.abs(inputgaps_v2),\n",
    "         bins = 200, histtype = 'step', label = 'block-diagonal gap')\n",
    "axs.hist(np.abs(sparsed_gaps_v2),\n",
    "         bins = 200, histtype = 'step', label = 'elementwise sparse gap')\n",
    "\n",
    "axs.get_xaxis().set_ticks([])\n",
    "axs.get_yaxis().set_ticks([])\n",
    "axs.set_title(\"Small CNN on CIFAR-10\", y = 1.0, color = 'black', pad = -20, fontsize = 16)\n",
    "plt.legend(labelcolor = 'black', fontsize = 12, loc = 'upper right')\n",
    "plt.savefig(\"ct_cifar10_final.svg\", dpi = 300)\n",
    "plt.show()"
   ]
  }
 ],
 "metadata": {
  "kernelspec": {
   "display_name": "Python 3",
   "language": "python",
   "name": "python3"
  },
  "language_info": {
   "codemirror_mode": {
    "name": "ipython",
    "version": 3
   },
   "file_extension": ".py",
   "mimetype": "text/x-python",
   "name": "python",
   "nbconvert_exporter": "python",
   "pygments_lexer": "ipython3",
   "version": "3.8.5"
  }
 },
 "nbformat": 4,
 "nbformat_minor": 5
}
